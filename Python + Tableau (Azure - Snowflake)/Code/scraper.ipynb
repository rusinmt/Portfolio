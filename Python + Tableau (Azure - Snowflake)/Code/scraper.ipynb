{
 "cells": [
  {
   "cell_type": "code",
   "execution_count": 29,
   "id": "33e4c0b0-836a-49f6-bc65-0bd52957d67e",
   "metadata": {
    "tags": []
   },
   "outputs": [],
   "source": [
    "from bs4 import BeautifulSoup\n",
    "from urllib.request import Request, urlopen\n",
    "import requests\n",
    "import pandas as pd"
   ]
  },
  {
   "cell_type": "code",
   "execution_count": 33,
   "id": "7cd78b75-a6f4-4dcb-b542-079e4af6f7cd",
   "metadata": {
    "tags": []
   },
   "outputs": [
    {
     "name": "stdout",
     "output_type": "stream",
     "text": [
      "Scraping page 1\n",
      "Scraping page 2\n",
      "Scraping page 3\n",
      "Scraping page 4\n",
      "Scraping page 5\n",
      "Scraping page 6\n",
      "Scraping page 7\n",
      "Scraping page 8\n",
      "Scraping page 9\n",
      "Scraping page 10\n",
      "Scraping page 11\n",
      "Scraping page 12\n",
      "Scraping page 13\n",
      "Scraping page 14\n",
      "Scraping page 15\n",
      "Scraping page 16\n",
      "Scraping page 17\n",
      "Scraping page 18\n",
      "Scraping page 19\n",
      "Scraping page 20\n",
      "Scraping page 21\n",
      "Scraping page 22\n",
      "Scraping page 23\n",
      "Scraping page 24\n",
      "Scraping page 25\n",
      "Scraping page 26\n",
      "Scraping page 27\n",
      "Scraping page 28\n",
      "Scraping page 29\n",
      "Scraping page 30\n",
      "Scraping page 31\n",
      "Scraping page 32\n",
      "Scraping page 33\n",
      "Scraping page 34\n",
      "Scraping page 35\n",
      "Scraping page 36\n",
      "Scraping page 37\n",
      "Scraping page 38\n",
      "Scraping page 39\n",
      "Scraping page 40\n",
      "Scraping page 41\n",
      "Scraping page 42\n",
      "Scraping page 43\n",
      "Scraping page 44\n",
      "Scraping page 45\n",
      "Scraping page 46\n",
      "Scraping page 47\n",
      "Scraping page 48\n",
      "Scraping page 49\n",
      "Scraping page 50\n"
     ]
    }
   ],
   "source": [
    "url_base = 'https://www.otodom.pl/pl/wyniki/sprzedaz/mieszkanie/mazowieckie/warszawa/warszawa/warszawa?distanceRadius=0&limit=72&ownerTypeSingleSelect=ALL&by=DEFAULT&direction=DESC&viewType=listing&page='\n",
    "num_pages = 50\n",
    "\n",
    "headers = {'User-Agent': 'Mozilla/5.0'}\n",
    "\n",
    "all_data = []\n",
    "\n",
    "for page_num in range(1, num_pages + 1):\n",
    "    url = url_base + str(page_num)\n",
    "\n",
    "    req = Request(url, headers=headers)\n",
    "\n",
    "    try:\n",
    "        response = urlopen(req, timeout=10)\n",
    "        page = response.read()\n",
    "\n",
    "        soup = BeautifulSoup(page, 'html.parser')\n",
    "\n",
    "        for t, p, l, a in zip(\n",
    "            soup.find_all('div', {'class': 'css-gg4vpm e1n06ry51'}),\n",
    "            soup.find_all('div', {'class': 'e1jyrtvq0 css-1tjkj49 ei6hyam0'}),\n",
    "            soup.find_all('p', {'class': 'css-19dkezj e1n06ry53'}),\n",
    "            soup.find_all('div', {'class': 'css-70qvj9 enzg89n0'})\n",
    "        ):\n",
    "            data = {\n",
    "                'Listing': t.text.strip(),\n",
    "                'Price1': p.text.strip(),\n",
    "                'Location': l.text.strip(),\n",
    "                'Ads': a.text.strip(),\n",
    "            }\n",
    "            all_data.append(data)\n",
    "\n",
    "        print(f'Scraping page {page_num}')\n",
    "\n",
    "    except Exception as e:\n",
    "        print(f'Error: {e}')"
   ]
  },
  {
   "cell_type": "code",
   "execution_count": 35,
   "id": "1641e77b-7f02-42e2-a57b-7cca031f6213",
   "metadata": {
    "tags": []
   },
   "outputs": [],
   "source": [
    "df = pd.DataFrame(all_data)"
   ]
  },
  {
   "cell_type": "code",
   "execution_count": 36,
   "id": "c107f6b7-2ec7-4e18-92f4-4d09162ec0fb",
   "metadata": {
    "tags": []
   },
   "outputs": [],
   "source": [
    "divide = df['Price1'].str.split('zł', 1, expand=True)\n",
    "divide.columns = ['Price', 'SQMUP1']\n",
    "\n",
    "divide2 = divide['SQMUP1'].str.split('zł/m²', expand=True)\n",
    "divide2.columns = ['SQMUP', 'Room Info1']\n",
    "\n",
    "divide3 = divide2['Room Info1'].str.replace('pokój|pokoje|pokoi', 'room', regex=True).str.split('room', expand=True)\n",
    "divide3.columns = ['Room Info', 'Area']\n",
    "\n",
    "divide3['Area'] = divide3['Area'].str.replace('m²', ' ')"
   ]
  },
  {
   "cell_type": "code",
   "execution_count": 37,
   "id": "0c73adca-a65c-4411-8f7e-8061c57c3d83",
   "metadata": {
    "tags": []
   },
   "outputs": [
    {
     "data": {
      "text/html": [
       "<div>\n",
       "<style scoped>\n",
       "    .dataframe tbody tr th:only-of-type {\n",
       "        vertical-align: middle;\n",
       "    }\n",
       "\n",
       "    .dataframe tbody tr th {\n",
       "        vertical-align: top;\n",
       "    }\n",
       "\n",
       "    .dataframe thead th {\n",
       "        text-align: right;\n",
       "    }\n",
       "</style>\n",
       "<table border=\"1\" class=\"dataframe\">\n",
       "  <thead>\n",
       "    <tr style=\"text-align: right;\">\n",
       "      <th></th>\n",
       "      <th>Price</th>\n",
       "      <th>SQMUP</th>\n",
       "      <th>Room Info</th>\n",
       "      <th>Area</th>\n",
       "    </tr>\n",
       "  </thead>\n",
       "  <tbody>\n",
       "    <tr>\n",
       "      <th>0</th>\n",
       "      <td>660 000</td>\n",
       "      <td>11 551</td>\n",
       "      <td>2</td>\n",
       "      <td>57.14</td>\n",
       "    </tr>\n",
       "    <tr>\n",
       "      <th>1</th>\n",
       "      <td>860 000</td>\n",
       "      <td>17 917</td>\n",
       "      <td>3</td>\n",
       "      <td>48</td>\n",
       "    </tr>\n",
       "    <tr>\n",
       "      <th>2</th>\n",
       "      <td>755 000</td>\n",
       "      <td>15 567</td>\n",
       "      <td>3</td>\n",
       "      <td>48.5</td>\n",
       "    </tr>\n",
       "    <tr>\n",
       "      <th>3</th>\n",
       "      <td>2 177 000</td>\n",
       "      <td>17 416</td>\n",
       "      <td>4</td>\n",
       "      <td>125</td>\n",
       "    </tr>\n",
       "    <tr>\n",
       "      <th>4</th>\n",
       "      <td>539 000</td>\n",
       "      <td>17 387</td>\n",
       "      <td>1</td>\n",
       "      <td>31</td>\n",
       "    </tr>\n",
       "  </tbody>\n",
       "</table>\n",
       "</div>"
      ],
      "text/plain": [
       "        Price    SQMUP Room Info     Area\n",
       "0    660 000   11 551         2   57.14  \n",
       "1    860 000   17 917         3      48  \n",
       "2    755 000   15 567         3    48.5  \n",
       "3  2 177 000   17 416         4     125  \n",
       "4    539 000   17 387         1      31  "
      ]
     },
     "execution_count": 37,
     "metadata": {},
     "output_type": "execute_result"
    }
   ],
   "source": [
    "divide_df = pd.concat([divide, divide2, divide3], axis=1)\n",
    "divide_df.drop(columns=['SQMUP1', 'Room Info1'], inplace=True)\n",
    "divide_df.head()"
   ]
  },
  {
   "cell_type": "code",
   "execution_count": 38,
   "id": "dad9d674-5a7f-4f7e-b859-ceba1bd384b7",
   "metadata": {
    "collapsed": true,
    "jupyter": {
     "outputs_hidden": true
    },
    "tags": []
   },
   "outputs": [
    {
     "data": {
      "text/html": [
       "<div>\n",
       "<style scoped>\n",
       "    .dataframe tbody tr th:only-of-type {\n",
       "        vertical-align: middle;\n",
       "    }\n",
       "\n",
       "    .dataframe tbody tr th {\n",
       "        vertical-align: top;\n",
       "    }\n",
       "\n",
       "    .dataframe thead th {\n",
       "        text-align: right;\n",
       "    }\n",
       "</style>\n",
       "<table border=\"1\" class=\"dataframe\">\n",
       "  <thead>\n",
       "    <tr style=\"text-align: right;\">\n",
       "      <th></th>\n",
       "      <th>Listing</th>\n",
       "      <th>Price</th>\n",
       "      <th>SQMUP</th>\n",
       "      <th>Room Info</th>\n",
       "      <th>Area</th>\n",
       "      <th>Location</th>\n",
       "      <th>Ads</th>\n",
       "    </tr>\n",
       "  </thead>\n",
       "  <tbody>\n",
       "    <tr>\n",
       "      <th>0</th>\n",
       "      <td>Dwu pokojowe mieszkanie w Warszawie (Stare Wlo...</td>\n",
       "      <td>660 000</td>\n",
       "      <td>11 551</td>\n",
       "      <td>2</td>\n",
       "      <td>57.14</td>\n",
       "      <td>ul. Zapustna, Stare Włochy, Włochy, Warszawa, ...</td>\n",
       "      <td>Oferta prywatna</td>\n",
       "    </tr>\n",
       "    <tr>\n",
       "      <th>1</th>\n",
       "      <td>3 pokoje 48m2 + ogródek 100m2</td>\n",
       "      <td>860 000</td>\n",
       "      <td>17 917</td>\n",
       "      <td>3</td>\n",
       "      <td>48</td>\n",
       "      <td>Natolin, Ursynów, Warszawa, mazowieckie</td>\n",
       "      <td>Oferta prywatna</td>\n",
       "    </tr>\n",
       "    <tr>\n",
       "      <th>2</th>\n",
       "      <td>Piękne 3 pokojowe mieszanie na sprzedaż 755 000zł</td>\n",
       "      <td>755 000</td>\n",
       "      <td>15 567</td>\n",
       "      <td>3</td>\n",
       "      <td>48.5</td>\n",
       "      <td>Szczęśliwice, Ochota, Warszawa, mazowieckie</td>\n",
       "      <td>Oferta prywatna</td>\n",
       "    </tr>\n",
       "    <tr>\n",
       "      <th>3</th>\n",
       "      <td>Piękny, nowoczesny apartament</td>\n",
       "      <td>2 177 000</td>\n",
       "      <td>17 416</td>\n",
       "      <td>4</td>\n",
       "      <td>125</td>\n",
       "      <td>Zawady, Wilanów, Warszawa, mazowieckie</td>\n",
       "      <td>Eurovilla Wilanów Sp. z o.o.Biuro nieruchomości</td>\n",
       "    </tr>\n",
       "    <tr>\n",
       "      <th>4</th>\n",
       "      <td>Słoneczna/Inwestycyjna Kawalerka na Saskiej Kępie</td>\n",
       "      <td>539 000</td>\n",
       "      <td>17 387</td>\n",
       "      <td>1</td>\n",
       "      <td>31</td>\n",
       "      <td>Saska Kępa, Praga-Południe, Warszawa, mazowieckie</td>\n",
       "      <td>homfi sp. z o.o.Biuro nieruchomości</td>\n",
       "    </tr>\n",
       "  </tbody>\n",
       "</table>\n",
       "</div>"
      ],
      "text/plain": [
       "                                             Listing       Price    SQMUP  \\\n",
       "0  Dwu pokojowe mieszkanie w Warszawie (Stare Wlo...    660 000   11 551    \n",
       "1                      3 pokoje 48m2 + ogródek 100m2    860 000   17 917    \n",
       "2  Piękne 3 pokojowe mieszanie na sprzedaż 755 000zł    755 000   15 567    \n",
       "3                      Piękny, nowoczesny apartament  2 177 000   17 416    \n",
       "4  Słoneczna/Inwestycyjna Kawalerka na Saskiej Kępie    539 000   17 387    \n",
       "\n",
       "  Room Info     Area                                           Location  \\\n",
       "0        2   57.14    ul. Zapustna, Stare Włochy, Włochy, Warszawa, ...   \n",
       "1        3      48              Natolin, Ursynów, Warszawa, mazowieckie   \n",
       "2        3    48.5          Szczęśliwice, Ochota, Warszawa, mazowieckie   \n",
       "3        4     125               Zawady, Wilanów, Warszawa, mazowieckie   \n",
       "4        1      31    Saska Kępa, Praga-Południe, Warszawa, mazowieckie   \n",
       "\n",
       "                                               Ads  \n",
       "0                                  Oferta prywatna  \n",
       "1                                  Oferta prywatna  \n",
       "2                                  Oferta prywatna  \n",
       "3  Eurovilla Wilanów Sp. z o.o.Biuro nieruchomości  \n",
       "4              homfi sp. z o.o.Biuro nieruchomości  "
      ]
     },
     "execution_count": 38,
     "metadata": {},
     "output_type": "execute_result"
    }
   ],
   "source": [
    "final_df = pd.concat([df, divide_df], axis=1)\n",
    "final_df.drop(columns=['Price1'], inplace=True)\n",
    "final_df = final_df[['Listing', 'Price', 'SQMUP', 'Room Info', 'Area', 'Location', 'Ads']]\n",
    "\n",
    "final_df.head()"
   ]
  },
  {
   "cell_type": "code",
   "execution_count": 39,
   "id": "8ce0e1fd-c60b-4e09-a470-6ccf9001453a",
   "metadata": {
    "tags": []
   },
   "outputs": [],
   "source": [
    "final_df.to_csv('desktop/scrape.csv')"
   ]
  }
 ],
 "metadata": {
  "kernelspec": {
   "display_name": "Python 3 (ipykernel)",
   "language": "python",
   "name": "python3"
  },
  "language_info": {
   "codemirror_mode": {
    "name": "ipython",
    "version": 3
   },
   "file_extension": ".py",
   "mimetype": "text/x-python",
   "name": "python",
   "nbconvert_exporter": "python",
   "pygments_lexer": "ipython3",
   "version": "3.11.4"
  }
 },
 "nbformat": 4,
 "nbformat_minor": 5
}
